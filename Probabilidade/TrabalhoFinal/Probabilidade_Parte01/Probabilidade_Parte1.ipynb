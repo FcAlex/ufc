{
 "cells": [
  {
   "cell_type": "markdown",
   "metadata": {},
   "source": [
    "# Trabalho Final Probabilidade\n",
    "## Parte 01"
   ]
  },
  {
   "cell_type": "code",
   "execution_count": 31,
   "metadata": {},
   "outputs": [],
   "source": [
    "import numpy as np\n",
    "import scipy.stats as st"
   ]
  },
  {
   "cell_type": "markdown",
   "metadata": {},
   "source": [
    "---\n",
    "**1. Seja Z uma distribuição Normal Padrão N(0, 1). Calcule:**"
   ]
  },
  {
   "cell_type": "code",
   "execution_count": 8,
   "metadata": {},
   "outputs": [
    {
     "name": "stdout",
     "output_type": "stream",
     "text": [
      "Probabilidade: 0.4031995154143897\n"
     ]
    }
   ],
   "source": [
    "# A) P(0 < Z ≤ 1,3)\n",
    "z1 = 0\n",
    "z2 = 1.3\n",
    "# Normal Padrão\n",
    "prob = st.norm.cdf(z2,loc=0, scale=1) - st.norm.cdf(z1,loc=0, scale=1)\n",
    "print(\"Probabilidade:\", prob)"
   ]
  },
  {
   "cell_type": "code",
   "execution_count": 9,
   "metadata": {},
   "outputs": [
    {
     "name": "stdout",
     "output_type": "stream",
     "text": [
      "Probabilidade:  0.2881446014166033\n"
     ]
    }
   ],
   "source": [
    "# B P(−0,8 ≤ Z ≤ 0)\n",
    "z1 = -0.8\n",
    "z2 = 0\n",
    "# Normal Padrão\n",
    "prob = st.norm.cdf(z2,loc=0, scale=1) - st.norm.cdf(z1,loc=0, scale=1)\n",
    "print(\"Probabilidade: \", prob)"
   ]
  },
  {
   "cell_type": "code",
   "execution_count": 10,
   "metadata": {},
   "outputs": [
    {
     "name": "stdout",
     "output_type": "stream",
     "text": [
      "Probabilidade:  0.0750105133578911\n"
     ]
    }
   ],
   "source": [
    "# C  P(1,2 ≤ Z < 1,75)\n",
    "z1 = 1.2\n",
    "z2 = 1.75\n",
    "# Normal Padrão\n",
    "prob = st.norm.cdf(z2, loc=0, scale=1) - st.norm.cdf(z1,loc=0, scale=1)\n",
    "print(\"Probabilidade: \", prob)"
   ]
  },
  {
   "cell_type": "code",
   "execution_count": 11,
   "metadata": {},
   "outputs": [
    {
     "name": "stdout",
     "output_type": "stream",
     "text": [
      "Probabilidade:  0.8023374568773076\n"
     ]
    }
   ],
   "source": [
    "# D P(Z > −0,85)\n",
    "prob = st.norm.cdf(0.85, loc=0, scale=1)\n",
    "print(\"Probabilidade: \", prob)"
   ]
  },
  {
   "cell_type": "code",
   "execution_count": 12,
   "metadata": {},
   "outputs": [
    {
     "name": "stdout",
     "output_type": "stream",
     "text": [
      "Probabilidade:  0.9264707403903516\n"
     ]
    }
   ],
   "source": [
    "# E P(Z ≤ 1,45)\n",
    "prob = st.norm.cdf(1.45, loc=0, scale=1)\n",
    "print(\"Probabilidade: \", prob)"
   ]
  },
  {
   "cell_type": "code",
   "execution_count": 13,
   "metadata": {},
   "outputs": [
    {
     "name": "stdout",
     "output_type": "stream",
     "text": [
      "Probabilidade:  0.42506630046567295\n"
     ]
    }
   ],
   "source": [
    "# P(−1,44 < Z < 0)\n",
    "z1 = -1.44\n",
    "z2 = 0\n",
    "# Normal Padrão\n",
    "prob = st.norm.cdf(z2, loc=0, scale=1) - st.norm.cdf(z1,loc=0, scale=1)\n",
    "print(\"Probabilidade: \", prob)"
   ]
  },
  {
   "cell_type": "markdown",
   "metadata": {},
   "source": [
    "---\n",
    "**2) O diâmetro do eixo principal de um disco rígido segue a distribuição Normal com média 25,08 pol. e desvio\n",
    "padrão 0,05 pol. Se as especificações para esse eixo são 25,00 ± 0,15 pol., determine o percentual de unidades\n",
    "produzidas em conformidades com as especificações.**"
   ]
  },
  {
   "cell_type": "code",
   "execution_count": 14,
   "metadata": {},
   "outputs": [
    {
     "name": "stdout",
     "output_type": "stream",
     "text": [
      "Probabilidade:  0.9192433407662297\n"
     ]
    }
   ],
   "source": [
    "media = 25.08\n",
    "desvp = 0.05\n",
    "z1 = (25.15 - media)/desvp\n",
    "z2 = (24.85 - media)/desvp\n",
    "prob = st.norm.cdf(z1, loc=0, scale=1) - 0 # z2 = -4,6....\n",
    "print(\"Probabilidade: \", prob)"
   ]
  },
  {
   "cell_type": "markdown",
   "metadata": {},
   "source": [
    "---\n",
    "**3) Uma companhia aérea faz 200 reservas em um voo com capacidade para 188 passageiros. A probabilidade de\n",
    "um passageiro se apresentar para o voo é de 0.9 e a chegada dos passageiros é assumida ser independente.**"
   ]
  },
  {
   "cell_type": "markdown",
   "metadata": {},
   "source": [
    "a) Aproxime a probabilidade de todos os passageiros que chegarem consigam seu assento"
   ]
  },
  {
   "cell_type": "code",
   "execution_count": 74,
   "metadata": {},
   "outputs": [
    {
     "name": "stdout",
     "output_type": "stream",
     "text": [
      "Probabilidade:  0.977436525555662\n"
     ]
    }
   ],
   "source": [
    "media = 200 * 0.9\n",
    "desvp = np.sqrt(media*(1 - 0.9))\n",
    "z1 = (188 - media + 0.5)/desvp\n",
    "prob = st.norm.cdf(z1, loc=0, scale=1)\n",
    "print(\"Probabilidade: \", prob)"
   ]
  },
  {
   "cell_type": "markdown",
   "metadata": {},
   "source": [
    "b) Qual a probabilidade aproximada do voo não apresentar assentos vazios?"
   ]
  },
  {
   "cell_type": "code",
   "execution_count": 75,
   "metadata": {
    "scrolled": true
   },
   "outputs": [
    {
     "name": "stdout",
     "output_type": "stream",
     "text": [
      "Probabilidade:  0.03854993587177085\n"
     ]
    }
   ],
   "source": [
    "z1 = (188 - media - 0.5)/desvp\n",
    "prob = st.norm.cdf(-z1, loc=0, scale=1)\n",
    "print(\"Probabilidade: \", prob)"
   ]
  },
  {
   "cell_type": "markdown",
   "metadata": {},
   "source": [
    "c) Aproxime o número de reservas que a companhia aérea deve permitir para que a probabilidade de todos os\n",
    "passageiros que se apresentarem ao voo consigam seus assentos ser equivalente a 95%. (Dica: faça sucessivas\n",
    "tentativas de valores para o número de reservas.)"
   ]
  },
  {
   "cell_type": "code",
   "execution_count": 78,
   "metadata": {},
   "outputs": [
    {
     "name": "stdout",
     "output_type": "stream",
     "text": [
      "Probabilidade:  0.9555202158026277 \n",
      "Numero de Reservas 193\n"
     ]
    }
   ],
   "source": [
    "media = 193 * 0.95\n",
    "desvp = np.sqrt(media*(0.05))\n",
    "z1 = (188 - media + 0.5)/desvp\n",
    "prob = st.norm.cdf(z1, loc=0, scale=1)\n",
    "print(\"Probabilidade: \", prob, \"\\nNumero de Reservas\", 193)"
   ]
  },
  {
   "cell_type": "markdown",
   "metadata": {},
   "source": [
    "---\n",
    "**4) A distribuição dos pesos de coelhos criados numa granja pode muito bem ser representada por uma distribuição Normal, com média 5 kg e desvio padrão 0,9 kg. Um abatedouro comprará 5000 coelhos e pretende\n",
    "classificá-los de acordo com o peso do seguinte modo: 15% dos mais leves como pequenos, os 50% seguintes\n",
    "como médios, os 20% seguintes como grandes e os 15% mais pesados como extras. Quais os limites de peso\n",
    "para cada classificação?**"
   ]
  },
  {
   "cell_type": "code",
   "execution_count": 17,
   "metadata": {
    "scrolled": true
   },
   "outputs": [
    {
     "name": "stdout",
     "output_type": "stream",
     "text": [
      "4.064 kg\n",
      "5.351 kg\n",
      "5.936 kg\n"
     ]
    }
   ],
   "source": [
    "media = 5\n",
    "desvp = 0.9\n",
    "\n",
    "z3 = 1.04*0.9+5\n",
    "z1 = -1.04*0.9+5\n",
    "z2 = 0.39*0.9+5\n",
    "print(z1, \"kg\")\n",
    "print(z2, \"kg\")\n",
    "print(z3, \"kg\")"
   ]
  },
  {
   "cell_type": "markdown",
   "metadata": {},
   "source": [
    "---\n",
    "**5) O diâmetro de um ponto produzido por uma impressora obedece a uma distribuição normal cujo diâmetro\n",
    "médio é µ = 0.1mm.**"
   ]
  },
  {
   "cell_type": "markdown",
   "metadata": {},
   "source": [
    "a) Suponha que a especificação exija que o diâmetro do ponto esteja entre 0.06mm e 0.14mm. Se a probabilidade dos pontos atenderem à especificação é desejada ser 0.9973, qual o valor de desvio padrão σ deve ser\n",
    "obtido?"
   ]
  },
  {
   "cell_type": "code",
   "execution_count": 35,
   "metadata": {},
   "outputs": [
    {
     "name": "stdout",
     "output_type": "stream",
     "text": [
      "Desvio Padrão: 0.014377367674558142\n"
     ]
    }
   ],
   "source": [
    "z1 = 0.14\n",
    "prob = 0.9973\n",
    "media = 0.1\n",
    "\n",
    "print(\"Desvio Padrão:\", (z1 - media)/st.norm.ppf(prob))"
   ]
  },
  {
   "cell_type": "markdown",
   "metadata": {},
   "source": [
    "b) Assumindo que o desvio padrão do tamanho do ponto é de σ = 0.01mm, se a probabilidade do ponto\n",
    "atender às especificações for de 0.9973, quais são as especificações? Assuma que os valores de especificação\n",
    "são simétricos em relação à média."
   ]
  },
  {
   "cell_type": "code",
   "execution_count": 36,
   "metadata": {},
   "outputs": [
    {
     "name": "stdout",
     "output_type": "stream",
     "text": [
      "0.12782150453784602\n"
     ]
    }
   ],
   "source": [
    "desvp= 0.01\n",
    " \n",
    "print(media + st.norm.ppf(prob)*desvp)"
   ]
  },
  {
   "cell_type": "markdown",
   "metadata": {},
   "source": [
    "---\n",
    "**6) Suponha que o tempo necessário para que estudantes completem uma prova tenha distribuição normal com\n",
    "média 90 minutos e desvio padrão 15 minutos.**"
   ]
  },
  {
   "cell_type": "markdown",
   "metadata": {},
   "source": [
    "a) Qual é a probabilidade do estudante terminar a prova em menos de 80 minutos?"
   ]
  },
  {
   "cell_type": "code",
   "execution_count": 42,
   "metadata": {},
   "outputs": [
    {
     "name": "stdout",
     "output_type": "stream",
     "text": [
      "Probabilidade:  0.2524925375469229\n"
     ]
    }
   ],
   "source": [
    "# < 80\n",
    "media = 90\n",
    "desvp = 15\n",
    "z1 = (80 - 90)/15\n",
    "prob = st.norm.cdf(z1, loc=0, scale=1)\n",
    "print(\"Probabilidade: \", prob)"
   ]
  },
  {
   "cell_type": "markdown",
   "metadata": {},
   "source": [
    "b) Em mais de 120 minutos?"
   ]
  },
  {
   "cell_type": "code",
   "execution_count": 25,
   "metadata": {},
   "outputs": [
    {
     "name": "stdout",
     "output_type": "stream",
     "text": [
      "Probabilidade:  0.022750131948179195\n"
     ]
    }
   ],
   "source": [
    "# > 120\n",
    "z1 = (120 - media)/desvp\n",
    "prob = st.norm.cdf(-z1, loc=0, scale=1)\n",
    "print(\"Probabilidade: \", prob)"
   ]
  },
  {
   "cell_type": "markdown",
   "metadata": {},
   "source": [
    "c) Entre 75 e 85 minutos?"
   ]
  },
  {
   "cell_type": "code",
   "execution_count": 26,
   "metadata": {},
   "outputs": [
    {
     "name": "stdout",
     "output_type": "stream",
     "text": [
      "Probabilidade:  0.2107860862503066\n"
     ]
    }
   ],
   "source": [
    "# > 75 e < 85\n",
    "z1 = (75 - media)/desvp\n",
    "z2 = (85 - media)/desvp\n",
    "prob = st.norm.cdf(z2, loc=0, scale=1) - st.norm.cdf(z1,loc=0, scale=1)\n",
    "print(\"Probabilidade: \", prob)"
   ]
  },
  {
   "cell_type": "markdown",
   "metadata": {},
   "source": [
    "d) Qual é o tempo necessário para que 98% dos estudantes terminem a prova?"
   ]
  },
  {
   "cell_type": "code",
   "execution_count": 27,
   "metadata": {},
   "outputs": [
    {
     "name": "stdout",
     "output_type": "stream",
     "text": [
      "120.75 minutos\n"
     ]
    }
   ],
   "source": [
    "# P(x<=t) = 0.98\n",
    "# P(z<=z1) = 0.98 Na tabela temos 2.05 mais próximo\n",
    "t = 2.05*15+90\n",
    "print(t, \"minutos\")"
   ]
  },
  {
   "cell_type": "markdown",
   "metadata": {},
   "source": [
    "e) Determinar o intervalo simétrico em torno do valor médio que contenha 70% dos valores do tempo\n",
    "para completarem a prova?"
   ]
  },
  {
   "cell_type": "code",
   "execution_count": 39,
   "metadata": {},
   "outputs": [
    {
     "name": "stdout",
     "output_type": "stream",
     "text": [
      "0.0896356661050621 e 0.11036433389493791\n"
     ]
    }
   ],
   "source": [
    "x = st.norm.ppf((1 - 0.7)/2)\n",
    " \n",
    "z1 = x * desvp + media\n",
    "z2 = -x * desvp + media\n",
    "print(z1, \"e\", z2)"
   ]
  },
  {
   "cell_type": "markdown",
   "metadata": {},
   "source": [
    "f) Qual é a probabilidade de que, entre 5 estudantes escolhidos ao acaso, 3 deles completem a prova em\n",
    "menos de 80 minutos?"
   ]
  },
  {
   "cell_type": "code",
   "execution_count": 41,
   "metadata": {},
   "outputs": [
    {
     "name": "stdout",
     "output_type": "stream",
     "text": [
      "Probabilidade:  0.9837830068698056\n"
     ]
    }
   ],
   "source": [
    "est = 5\n",
    "z1 = (80 - 90)/15\n",
    "prob = st.binom.cdf(3, est, st.norm.cdf(z1, loc=0, scale=1))\n",
    "print(\"Probabilidade: \", prob)"
   ]
  },
  {
   "cell_type": "markdown",
   "metadata": {},
   "source": [
    "---\n",
    "**7) Uma maquina produz 400 parafusos, dos quais 5% apresenta agum defeito. Determine a probabilidade de:**"
   ]
  },
  {
   "cell_type": "markdown",
   "metadata": {},
   "source": [
    "a) No máximo 30 sejam defeituosos;"
   ]
  },
  {
   "cell_type": "code",
   "execution_count": 44,
   "metadata": {},
   "outputs": [
    {
     "name": "stdout",
     "output_type": "stream",
     "text": [
      "Probabilidade:  0.991998896498282\n"
     ]
    }
   ],
   "source": [
    "media = 400 * 0.05\n",
    "desvp = np.sqrt(400*0.05*(0.95))\n",
    "\n",
    "z1 = (30 + 0.5 - media)/desvp\n",
    "prob = st.norm.cdf(z1, loc=0, scale=1)\n",
    "print(\"Probabilidade: \", prob)"
   ]
  },
  {
   "cell_type": "markdown",
   "metadata": {},
   "source": [
    "b) Entre 25 e 45 defeituosos;"
   ]
  },
  {
   "cell_type": "code",
   "execution_count": 47,
   "metadata": {},
   "outputs": [
    {
     "name": "stdout",
     "output_type": "stream",
     "text": [
      "Probabilidade:  0.150949219757894\n"
     ]
    }
   ],
   "source": [
    "z1 = (25 - 0.5 - media)/desvp\n",
    "z2 = (45 + 0.5 - media)/desvp\n",
    "\n",
    "prob = st.norm.cdf(z2, loc=0, scale=1) - st.norm.cdf(z1, loc=0, scale=1)\n",
    "print(\"Probabilidade: \", prob)"
   ]
  },
  {
   "cell_type": "markdown",
   "metadata": {},
   "source": [
    "c) mais de 50 parafusos defeituosos;"
   ]
  },
  {
   "cell_type": "code",
   "execution_count": 53,
   "metadata": {},
   "outputs": [
    {
     "name": "stdout",
     "output_type": "stream",
     "text": [
      "Probabilidade:  0.9999999999986942\n"
     ]
    }
   ],
   "source": [
    "z1 = (50 + 0.5 - media)/desvp\n",
    "\n",
    "prob = st.norm.cdf(z1, loc=0, scale=1)\n",
    "print(\"Probabilidade: \", prob)"
   ]
  },
  {
   "cell_type": "markdown",
   "metadata": {},
   "source": [
    "---\n",
    "**8) Um fabricante produz anéis de pistão para um motor de automóvel. Sabe-se que o diâmetro do anel possui\n",
    "distribuição normal com desvio padrão σ = 0,001 mm. Uma amostra aleatória de 15 anéis produziu um\n",
    "diâmetro médio de x = 74,036 mm. Construa intervalos de confiança unilateral e bilateral de 95%;**"
   ]
  },
  {
   "cell_type": "code",
   "execution_count": 28,
   "metadata": {},
   "outputs": [
    {
     "name": "stdout",
     "output_type": "stream",
     "text": [
      "-1.959963984540054\n",
      "1.6448536269514722\n",
      "87.85043237827024\n",
      "93.10956762172974\n"
     ]
    }
   ],
   "source": [
    "# IC bilateral de 95%\n",
    "zEsc = st.norm.isf(0.975, loc=0, scale=1)\n",
    "print(zEsc) #-1.95996398454\n",
    "\n",
    "zEsc1 = st.norm.ppf(.95)\n",
    "print(zEsc1) #1.64485362695\n",
    "\n",
    "X = [91.6, 88.75, 90.8, 89.95, 91.3]\n",
    "medX = np.mean(X)\n",
    "n = len(X)\n",
    "zA2 = zEsc * (-1)\n",
    "sigma = 3 #Variancia Conhecida\n",
    "Linf = medX - zA2 *sigma/np.sqrt(n)\n",
    "Lsup = medX + zA2 *sigma/np.sqrt(n)\n",
    "\n",
    "print(Linf)\n",
    "print(Lsup)"
   ]
  },
  {
   "cell_type": "markdown",
   "metadata": {},
   "source": [
    "---\n",
    "**9) O rendimento de um processo químico está sendo estudado. De experiências prévias com esse processo,\n",
    "sabe-se que o rendimento é normalmente distribuído e σ = 3. Os últimos cinco dias de operação da planta\n",
    "resultaram nos seguintes rendimento percentuais: 91,6; 88,75; 90,8; 89,95 e 91,3. Encontre um intervalo com\n",
    "95% de confiança para o rendimento médio verdadeiro.**"
   ]
  },
  {
   "cell_type": "code",
   "execution_count": 29,
   "metadata": {},
   "outputs": [
    {
     "name": "stdout",
     "output_type": "stream",
     "text": [
      "-1.959963984540054\n",
      "3232.1209454015966\n",
      "3267.8790545984034\n",
      "-2.5758293035489004\n",
      "3226.5029392797105\n",
      "3273.4970607202895\n"
     ]
    }
   ],
   "source": [
    "## Normal\n",
    "# IC bilateral de 95%\n",
    "zEsc1 = st.norm.isf(0.975, loc=0, scale=1)\n",
    "print(zEsc1) \n",
    "\n",
    "\n",
    "medX = 3250\n",
    "n = 12\n",
    "zA2 = zEsc1 * (-1)\n",
    "sigma = 31.6 #Variancia Conhecida\n",
    "Linf = medX - zA2 *sigma/np.sqrt(n)\n",
    "Lsup = medX + zA2 *sigma/np.sqrt(n)\n",
    "\n",
    "print(Linf)\n",
    "print(Lsup)\n",
    "\n",
    "# IC bilateral de 99%\n",
    "zEsc2 = st.norm.isf(0.995, loc=0, scale=1)\n",
    "print(zEsc2) \n",
    "\n",
    "\n",
    "zA3 = zEsc2 * (-1)\n",
    "Linf1 = medX - zA3 *sigma/np.sqrt(n)\n",
    "Lsup1 = medX + zA3 *sigma/np.sqrt(n)\n",
    "\n",
    "print(Linf1)\n",
    "print(Lsup1)"
   ]
  },
  {
   "cell_type": "markdown",
   "metadata": {},
   "source": [
    "---\n",
    "**10) Um engenheiro civil está analisando a resistência à compressão do concreto. A resistência à compressão tem\n",
    "distribuição normal com σ = 31, 6. Uma amostra aleatória de 12 corpos-de-prova tem uma resistência média\n",
    "à compressão x = 3250. Construa intervalos de confiança bilaterais de 95% e 99% para a média.**"
   ]
  },
  {
   "cell_type": "code",
   "execution_count": 30,
   "metadata": {},
   "outputs": [
    {
     "name": "stdout",
     "output_type": "stream",
     "text": [
      "-1.959963984540054\n",
      "3232.1209454015966\n",
      "3267.8790545984034\n",
      "-2.5758293035489004\n",
      "3226.5029392797105\n",
      "3273.4970607202895\n"
     ]
    }
   ],
   "source": [
    "## Normal\n",
    "# IC bilateral de 95%\n",
    "zEsc1 = st.norm.isf(0.975, loc=0, scale=1)\n",
    "print(zEsc1) \n",
    "\n",
    "\n",
    "medX = 3250\n",
    "n = 12\n",
    "zA2 = zEsc1 * (-1)\n",
    "sigma = 31.6 #Variancia Conhecida\n",
    "Linf = medX - zA2 *sigma/np.sqrt(n)\n",
    "Lsup = medX + zA2 *sigma/np.sqrt(n)\n",
    "\n",
    "print(Linf)\n",
    "print(Lsup)\n",
    "\n",
    "# IC bilateral de 99%\n",
    "zEsc2 = st.norm.isf(0.995, loc=0, scale=1)\n",
    "print(zEsc2) \n",
    "\n",
    "\n",
    "zA3 = zEsc2 * (-1)\n",
    "Linf1 = medX - zA3 *sigma/np.sqrt(n)\n",
    "Lsup1 = medX + zA3 *sigma/np.sqrt(n)\n",
    "\n",
    "print(Linf1)\n",
    "print(Lsup1)"
   ]
  }
 ],
 "metadata": {
  "kernelspec": {
   "display_name": "Python 3",
   "language": "python",
   "name": "python3"
  },
  "language_info": {
   "codemirror_mode": {
    "name": "ipython",
    "version": 3
   },
   "file_extension": ".py",
   "mimetype": "text/x-python",
   "name": "python",
   "nbconvert_exporter": "python",
   "pygments_lexer": "ipython3",
   "version": "3.7.3"
  }
 },
 "nbformat": 4,
 "nbformat_minor": 2
}
